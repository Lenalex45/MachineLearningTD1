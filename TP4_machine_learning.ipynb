{
  "nbformat": 4,
  "nbformat_minor": 0,
  "metadata": {
    "colab": {
      "provenance": [],
      "include_colab_link": true
    },
    "kernelspec": {
      "name": "python3",
      "display_name": "Python 3"
    },
    "language_info": {
      "name": "python"
    }
  },
  "cells": [
    {
      "cell_type": "markdown",
      "metadata": {
        "id": "view-in-github",
        "colab_type": "text"
      },
      "source": [
        "<a href=\"https://colab.research.google.com/github/Lenalex45/MachineLearningTD1/blob/main/TP4_machine_learning.ipynb\" target=\"_parent\"><img src=\"https://colab.research.google.com/assets/colab-badge.svg\" alt=\"Open In Colab\"/></a>"
      ]
    },
    {
      "cell_type": "code",
      "source": [
        "import tensorflow as tf\n",
        "import numpy as np\n",
        "import matplotlib.pyplot as plt\n",
        "import matplotlib as mpl\n",
        "from tensorflow import keras\n",
        "from tensorflow.keras import layers"
      ],
      "metadata": {
        "id": "P0w8JO4u83gE"
      },
      "execution_count": null,
      "outputs": []
    },
    {
      "cell_type": "code",
      "source": [
        "from google.colab import drive\n",
        "drive.mount('/content/drive') "
      ],
      "metadata": {
        "id": "SzH1c79E-RtS",
        "colab": {
          "base_uri": "https://localhost:8080/"
        },
        "outputId": "a6c52d54-55a1-42d0-bb6e-4e9ae0c217fd"
      },
      "execution_count": null,
      "outputs": [
        {
          "output_type": "stream",
          "name": "stdout",
          "text": [
            "Mounted at /content/drive\n"
          ]
        }
      ]
    },
    {
      "cell_type": "code",
      "source": [
        "import os\n",
        "\n",
        "# Remplacez par le chemin de votre dossier\n",
        "image_folder_path = '/content/drive/My Drive/cats_and_dogs' \n",
        "\n",
        "# Liste tous les fichiers/dossiers dans le dossier d'images\n",
        "for file_name in os.listdir(image_folder_path):\n",
        "    print(file_name)"
      ],
      "metadata": {
        "id": "TRPLii_y-UKv",
        "colab": {
          "base_uri": "https://localhost:8080/"
        },
        "outputId": "5f103bcb-eb92-476f-f822-c28edeb3dbc2"
      },
      "execution_count": null,
      "outputs": [
        {
          "output_type": "stream",
          "name": "stdout",
          "text": [
            ".DS_Store\n",
            "test\n",
            "train\n"
          ]
        }
      ]
    },
    {
      "cell_type": "code",
      "source": [
        "from tensorflow.keras.preprocessing.image import ImageDataGenerator\n",
        "from keras.applications.mobilenet_v2 import MobileNetV2, preprocess_input"
      ],
      "metadata": {
        "id": "VLXkkcKXBIeQ"
      },
      "execution_count": null,
      "outputs": []
    },
    {
      "cell_type": "code",
      "source": [
        "train_datagen = ImageDataGenerator(\n",
        "    shear_range=0.2,\n",
        "    zoom_range=0.2,\n",
        "    horizontal_flip=True, preprocessing_function=preprocess_input,\n",
        ")\n",
        "\n",
        "train_generator = train_datagen.flow_from_directory(\n",
        "    '/content/drive/My Drive/cats_and_dogs/train',\n",
        "    target_size=(150, 150),\n",
        "    batch_size=32,\n",
        "    class_mode='binary', shuffle=True)\n",
        "\n",
        "test_datagen = ImageDataGenerator(preprocessing_function=preprocess_input)\n",
        "\n",
        "validation_generator = test_datagen.flow_from_directory(\n",
        "        '/content/drive/My Drive/cats_and_dogs/test',\n",
        "        target_size=(150, 150),\n",
        "        batch_size=32,\n",
        "        class_mode='binary', shuffle=False )"
      ],
      "metadata": {
        "id": "Fk_Gm3hG-kWg",
        "colab": {
          "base_uri": "https://localhost:8080/"
        },
        "outputId": "cd104f8e-0b58-4ba1-9bd0-7f51f279c2c2"
      },
      "execution_count": null,
      "outputs": [
        {
          "output_type": "stream",
          "name": "stdout",
          "text": [
            "Found 557 images belonging to 2 classes.\n",
            "Found 140 images belonging to 2 classes.\n"
          ]
        }
      ]
    },
    {
      "cell_type": "code",
      "source": [
        "from tensorflow.keras.applications import MobileNetV2\n",
        "from tensorflow.keras.models import Sequential\n",
        "from tensorflow.keras.layers import Dense, Flatten\n",
        "\n",
        "# Charger ResNet50V2 pré-entraîné sur ImageNet, sans la dernière couche\n",
        "base_model = MobileNetV2(weights='imagenet', include_top=False, input_shape=(150, 150, 3))\n",
        "\n",
        "# Créer un nouveau modèle en ajoutant une nouvelle dernière couche à ResNet50V2\n",
        "model = Sequential()\n",
        "model.add(base_model)  # Ajouter le modèle de base\n",
        "model.add(Flatten())  # Aplatir la sortie du modèle de base\n",
        "model.add(Dense(1, activation='sigmoid'))  # Ajouter la dernière couche pour la classification binaire\n",
        "\n",
        "# Congeler les couches du modèle de base pour qu'elles ne soient pas entraînées\n",
        "for layer in base_model.layers:\n",
        "    layer.trainable = False\n",
        "\n",
        "# Compiler le modèle\n",
        "model.compile(optimizer='adam', loss='binary_crossentropy', metrics=['accuracy'])"
      ],
      "metadata": {
        "id": "NptDPPf4DbQj",
        "colab": {
          "base_uri": "https://localhost:8080/"
        },
        "outputId": "38e10b94-dcac-4b3c-fe8a-b58225de0bb4"
      },
      "execution_count": null,
      "outputs": [
        {
          "output_type": "stream",
          "name": "stderr",
          "text": [
            "WARNING:tensorflow:`input_shape` is undefined or non-square, or `rows` is not in [96, 128, 160, 192, 224]. Weights for input shape (224, 224) will be loaded as the default.\n"
          ]
        }
      ]
    },
    {
      "cell_type": "code",
      "source": [
        "history = model.fit(\n",
        "    train_generator,\n",
        "    steps_per_epoch=len(train_generator),\n",
        "    epochs=10,\n",
        "    validation_data=validation_generator,\n",
        "    validation_steps=len(validation_generator)\n",
        ")"
      ],
      "metadata": {
        "id": "RLWrnAl0EKb3",
        "colab": {
          "base_uri": "https://localhost:8080/"
        },
        "outputId": "806ec209-25ed-43c3-ea82-b36ae3f7370b"
      },
      "execution_count": null,
      "outputs": [
        {
          "output_type": "stream",
          "name": "stdout",
          "text": [
            "Epoch 1/10\n",
            "18/18 [==============================] - 34s 2s/step - loss: 2.3044 - accuracy: 0.7397 - val_loss: 0.3060 - val_accuracy: 0.9071\n",
            "Epoch 2/10\n",
            "18/18 [==============================] - 30s 2s/step - loss: 0.5119 - accuracy: 0.8977 - val_loss: 0.9712 - val_accuracy: 0.8714\n",
            "Epoch 3/10\n",
            "18/18 [==============================] - 28s 2s/step - loss: 0.2071 - accuracy: 0.9443 - val_loss: 0.6515 - val_accuracy: 0.9000\n",
            "Epoch 4/10\n",
            "18/18 [==============================] - 28s 2s/step - loss: 0.1616 - accuracy: 0.9695 - val_loss: 0.6217 - val_accuracy: 0.9000\n",
            "Epoch 5/10\n",
            "18/18 [==============================] - 29s 2s/step - loss: 0.0845 - accuracy: 0.9803 - val_loss: 0.5897 - val_accuracy: 0.9071\n",
            "Epoch 6/10\n",
            "18/18 [==============================] - 29s 2s/step - loss: 0.0599 - accuracy: 0.9767 - val_loss: 0.3527 - val_accuracy: 0.9143\n",
            "Epoch 7/10\n",
            "18/18 [==============================] - 32s 2s/step - loss: 0.0467 - accuracy: 0.9892 - val_loss: 0.3393 - val_accuracy: 0.9143\n",
            "Epoch 8/10\n",
            "18/18 [==============================] - 34s 2s/step - loss: 0.0246 - accuracy: 0.9946 - val_loss: 0.3334 - val_accuracy: 0.9214\n",
            "Epoch 9/10\n",
            "18/18 [==============================] - 33s 2s/step - loss: 0.0365 - accuracy: 0.9874 - val_loss: 0.4093 - val_accuracy: 0.9214\n",
            "Epoch 10/10\n",
            "18/18 [==============================] - 29s 2s/step - loss: 0.0417 - accuracy: 0.9874 - val_loss: 0.6573 - val_accuracy: 0.9000\n"
          ]
        }
      ]
    },
    {
      "cell_type": "code",
      "source": [
        "import matplotlib.pyplot as plt\n",
        "\n",
        "# Récupérer l'historique de l'entraînement\n",
        "history_dict = history.history\n",
        "\n",
        "# Extraire les valeurs de perte et de précision\n",
        "loss_values = history_dict['loss']\n",
        "val_loss_values = history_dict['val_loss']\n",
        "acc_values = history_dict['accuracy']\n",
        "val_acc_values = history_dict['val_accuracy']\n",
        "\n",
        "# Obtenir le nombre d'époques\n",
        "epochs = range(1, len(loss_values) + 1)\n",
        "\n",
        "# Tracer la perte\n",
        "plt.figure(figsize=(12,6))\n",
        "plt.subplot(1, 2, 1)\n",
        "plt.plot(epochs, loss_values, 'bo', label='Training loss')\n",
        "plt.plot(epochs, val_loss_values, 'b', label='Validation loss')\n",
        "plt.title('Training and validation loss')\n",
        "plt.xlabel('Epochs')\n",
        "plt.ylabel('Loss')\n",
        "plt.legend()\n",
        "\n",
        "# Tracer la précision\n",
        "plt.subplot(1, 2, 2)\n",
        "plt.plot(epochs, acc_values, 'bo', label='Training accuracy')\n",
        "plt.plot(epochs, val_acc_values, 'b', label='Validation accuracy')\n",
        "plt.title('Training and validation accuracy')\n",
        "plt.xlabel('Epochs')\n",
        "plt.ylabel('Accuracy')\n",
        "plt.legend()\n",
        "\n",
        "plt.show()"
      ],
      "metadata": {
        "id": "gFYO0tNRJlD0",
        "colab": {
          "base_uri": "https://localhost:8080/",
          "height": 564
        },
        "outputId": "38ed24ea-307e-4e8f-fecf-218987dd9d1f"
      },
      "execution_count": null,
      "outputs": [
        {
          "output_type": "display_data",
          "data": {
            "text/plain": [
              "<Figure size 1200x600 with 2 Axes>"
            ],
            "image/png": "[encoded data removed]"
          },
          "metadata": {}
        }
      ]
    },
    {
      "cell_type": "code",
      "source": [
        "from sklearn.metrics import classification_report, confusion_matrix\n",
        "\n",
        "y_pred = model.predict(validation_generator)\n",
        "y_pred = np.round(y_pred)  # Convertir les probabilités en étiquettes binaires\n",
        "\n",
        "# Extraire les vraies étiquettes\n",
        "y_true = validation_generator.labels\n",
        "\n",
        "print(confusion_matrix(y_true, y_pred))\n",
        "print(classification_report(y_true, y_pred))"
      ],
      "metadata": {
        "id": "LNS0RaDUKeI1",
        "colab": {
          "base_uri": "https://localhost:8080/"
        },
        "outputId": "a7c40830-d862-4ae2-f5fb-79723b6ce291"
      },
      "execution_count": null,
      "outputs": [
        {
          "output_type": "stream",
          "name": "stdout",
          "text": [
            "5/5 [==============================] - 7s 1s/step\n",
            "[[56 14]\n",
            " [ 0 70]]\n",
            "              precision    recall  f1-score   support\n",
            "\n",
            "           0       1.00      0.80      0.89        70\n",
            "           1       0.83      1.00      0.91        70\n",
            "\n",
            "    accuracy                           0.90       140\n",
            "   macro avg       0.92      0.90      0.90       140\n",
            "weighted avg       0.92      0.90      0.90       140\n",
            "\n"
          ]
        }
      ]
    }
  ]
}